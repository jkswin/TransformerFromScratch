{
 "cells": [
  {
   "cell_type": "code",
   "execution_count": 1,
   "metadata": {},
   "outputs": [],
   "source": [
    "import pandas as pd\n",
    "import requests\n",
    "from bs4 import BeautifulSoup"
   ]
  },
  {
   "cell_type": "code",
   "execution_count": 2,
   "metadata": {},
   "outputs": [],
   "source": [
    "bulb_url = \"https://bulbapedia.bulbagarden.net/wiki/List_of_Pok%C3%A9mon_by_National_Pok%C3%A9dex_number\"\n",
    "request = requests.get(bulb_url).content\n",
    "soup = BeautifulSoup(request, \"html.parser\")"
   ]
  },
  {
   "cell_type": "code",
   "execution_count": 48,
   "metadata": {},
   "outputs": [],
   "source": [
    "pokemon_urls = []\n",
    "tables = soup.find_all(\"table\", {\"class\":\"roundy\"})\n",
    "for table in tables:\n",
    "    t_pokemon = table.find_all(\"a\")\n",
    "    for pokemon in t_pokemon:\n",
    "        link = pokemon.get(\"href\")\n",
    "        if \"(type)\" not in link:\n",
    "            pokemon_urls.append(\"https://bulbapedia.bulbagarden.net\" + link)\n",
    "\n",
    "pokemon_urls = list(set(pokemon_urls))\n",
    "\n"
   ]
  },
  {
   "cell_type": "code",
   "execution_count": 63,
   "metadata": {},
   "outputs": [],
   "source": [
    "def get_bio(url):\n",
    "    request = requests.get(url).content\n",
    "    soup = BeautifulSoup(request, \"html.parser\")\n",
    "    gen = soup.find(\"span\", id=\"Biology\").next_elements\n",
    "    next(gen)\n",
    "    next(gen)\n",
    "    bio = next(gen).text\n",
    "    return bio\n",
    "\n",
    "\n",
    "bios = [get_bio(url) for url in pokemon_urls]\n"
   ]
  },
  {
   "cell_type": "code",
   "execution_count": 84,
   "metadata": {},
   "outputs": [
    {
     "data": {
      "text/plain": [
       "831"
      ]
     },
     "execution_count": 84,
     "metadata": {},
     "output_type": "execute_result"
    }
   ],
   "source": [
    "cleaned_bios = [bio for bio in bios if ((len(bio.split()) > 20) and (bio.split()[0].lower() not in [\"in\", \"iron\"]))]\n",
    "len(cleaned_bios)"
   ]
  },
  {
   "cell_type": "code",
   "execution_count": 86,
   "metadata": {},
   "outputs": [],
   "source": [
    "texts = {b.split()[0]:b for b in cleaned_bios}\n",
    "\n",
    "import json\n",
    "with open(\"pokemon_bios.json\", \"w\") as f:\n",
    "    json.dump(texts, f)"
   ]
  },
  {
   "cell_type": "code",
   "execution_count": null,
   "metadata": {},
   "outputs": [],
   "source": []
  }
 ],
 "metadata": {
  "kernelspec": {
   "display_name": "transformer_from_scratch_venv",
   "language": "python",
   "name": "python3"
  },
  "language_info": {
   "codemirror_mode": {
    "name": "ipython",
    "version": 3
   },
   "file_extension": ".py",
   "mimetype": "text/x-python",
   "name": "python",
   "nbconvert_exporter": "python",
   "pygments_lexer": "ipython3",
   "version": "3.8.3"
  },
  "orig_nbformat": 4
 },
 "nbformat": 4,
 "nbformat_minor": 2
}
